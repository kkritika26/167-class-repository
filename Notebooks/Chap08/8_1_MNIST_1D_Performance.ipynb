{
  "cells": [
    {
      "cell_type": "markdown",
      "metadata": {
        "id": "view-in-github",
        "colab_type": "text"
      },
      "source": [
        "<a href=\"https://colab.research.google.com/github/kkritika26/167-class-repository/blob/main/Notebooks/Chap08/8_1_MNIST_1D_Performance.ipynb\" target=\"_parent\"><img src=\"https://colab.research.google.com/assets/colab-badge.svg\" alt=\"Open In Colab\"/></a>"
      ]
    },
    {
      "cell_type": "markdown",
      "metadata": {
        "id": "L6chybAVFJW2"
      },
      "source": [
        "# **Notebook 8.1: MNIST_1D_Performance**\n",
        "\n",
        "This notebook runs a simple neural network on the MNIST1D dataset as in figure 8.2a. It uses code from https://github.com/greydanus/mnist1d to generate the data.\n",
        "\n",
        "Work through the cells below, running each cell in turn. In various places you will see the words \"TODO\". Follow the instructions at these places and make predictions about what is going to happen or write code to complete the functions.\n",
        "\n",
        "Contact me at udlbookmail@gmail.com if you find any mistakes or have any suggestions."
      ]
    },
    {
      "cell_type": "code",
      "execution_count": 1,
      "metadata": {
        "id": "ifVjS4cTOqKz",
        "outputId": "91f6900b-b9f1-44cb-980c-f9ff1a633e7b",
        "colab": {
          "base_uri": "https://localhost:8080/"
        }
      },
      "outputs": [
        {
          "output_type": "stream",
          "name": "stdout",
          "text": [
            "Collecting git+https://github.com/greydanus/mnist1d\n",
            "  Cloning https://github.com/greydanus/mnist1d to /tmp/pip-req-build-k8uikac9\n",
            "  Running command git clone --filter=blob:none --quiet https://github.com/greydanus/mnist1d /tmp/pip-req-build-k8uikac9\n",
            "  Resolved https://github.com/greydanus/mnist1d to commit 7878d96082abd200c546a07a4101fa90b30fdf7e\n",
            "  Installing build dependencies ... \u001b[?25l\u001b[?25hdone\n",
            "  Getting requirements to build wheel ... \u001b[?25l\u001b[?25hdone\n",
            "  Preparing metadata (pyproject.toml) ... \u001b[?25l\u001b[?25hdone\n",
            "Requirement already satisfied: requests in /usr/local/lib/python3.12/dist-packages (from mnist1d==0.0.2.post16) (2.32.4)\n",
            "Requirement already satisfied: numpy in /usr/local/lib/python3.12/dist-packages (from mnist1d==0.0.2.post16) (2.0.2)\n",
            "Requirement already satisfied: matplotlib in /usr/local/lib/python3.12/dist-packages (from mnist1d==0.0.2.post16) (3.10.0)\n",
            "Requirement already satisfied: scipy in /usr/local/lib/python3.12/dist-packages (from mnist1d==0.0.2.post16) (1.16.2)\n",
            "Requirement already satisfied: contourpy>=1.0.1 in /usr/local/lib/python3.12/dist-packages (from matplotlib->mnist1d==0.0.2.post16) (1.3.3)\n",
            "Requirement already satisfied: cycler>=0.10 in /usr/local/lib/python3.12/dist-packages (from matplotlib->mnist1d==0.0.2.post16) (0.12.1)\n",
            "Requirement already satisfied: fonttools>=4.22.0 in /usr/local/lib/python3.12/dist-packages (from matplotlib->mnist1d==0.0.2.post16) (4.60.1)\n",
            "Requirement already satisfied: kiwisolver>=1.3.1 in /usr/local/lib/python3.12/dist-packages (from matplotlib->mnist1d==0.0.2.post16) (1.4.9)\n",
            "Requirement already satisfied: packaging>=20.0 in /usr/local/lib/python3.12/dist-packages (from matplotlib->mnist1d==0.0.2.post16) (25.0)\n",
            "Requirement already satisfied: pillow>=8 in /usr/local/lib/python3.12/dist-packages (from matplotlib->mnist1d==0.0.2.post16) (11.3.0)\n",
            "Requirement already satisfied: pyparsing>=2.3.1 in /usr/local/lib/python3.12/dist-packages (from matplotlib->mnist1d==0.0.2.post16) (3.2.5)\n",
            "Requirement already satisfied: python-dateutil>=2.7 in /usr/local/lib/python3.12/dist-packages (from matplotlib->mnist1d==0.0.2.post16) (2.9.0.post0)\n",
            "Requirement already satisfied: charset_normalizer<4,>=2 in /usr/local/lib/python3.12/dist-packages (from requests->mnist1d==0.0.2.post16) (3.4.3)\n",
            "Requirement already satisfied: idna<4,>=2.5 in /usr/local/lib/python3.12/dist-packages (from requests->mnist1d==0.0.2.post16) (3.10)\n",
            "Requirement already satisfied: urllib3<3,>=1.21.1 in /usr/local/lib/python3.12/dist-packages (from requests->mnist1d==0.0.2.post16) (2.5.0)\n",
            "Requirement already satisfied: certifi>=2017.4.17 in /usr/local/lib/python3.12/dist-packages (from requests->mnist1d==0.0.2.post16) (2025.10.5)\n",
            "Requirement already satisfied: six>=1.5 in /usr/local/lib/python3.12/dist-packages (from python-dateutil>=2.7->matplotlib->mnist1d==0.0.2.post16) (1.17.0)\n",
            "Building wheels for collected packages: mnist1d\n",
            "  Building wheel for mnist1d (pyproject.toml) ... \u001b[?25l\u001b[?25hdone\n",
            "  Created wheel for mnist1d: filename=mnist1d-0.0.2.post16-py3-none-any.whl size=14665 sha256=86051ef72e958a0fc4106fe5df01fd14da09c554d9cab6340314cee7a12d3894\n",
            "  Stored in directory: /tmp/pip-ephem-wheel-cache-ti4ak7sa/wheels/18/40/b6/29381fee9b4c80fdbc304d52bb065a7286bbcca5ca2b8737c0\n",
            "Successfully built mnist1d\n",
            "Installing collected packages: mnist1d\n",
            "Successfully installed mnist1d-0.0.2.post16\n"
          ]
        }
      ],
      "source": [
        "# Run this if you're in a Colab to install MNIST 1D repository\n",
        "%pip install git+https://github.com/greydanus/mnist1d"
      ]
    },
    {
      "cell_type": "code",
      "execution_count": 2,
      "metadata": {
        "id": "qyE7G1StPIqO"
      },
      "outputs": [],
      "source": [
        "import torch, torch.nn as nn\n",
        "from torch.utils.data import TensorDataset, DataLoader\n",
        "from torch.optim.lr_scheduler import StepLR\n",
        "import numpy as np\n",
        "import matplotlib.pyplot as plt\n",
        "import mnist1d"
      ]
    },
    {
      "cell_type": "markdown",
      "metadata": {
        "id": "F7LNq72SP6jO"
      },
      "source": [
        "Let's generate a training and test dataset using the MNIST1D code.  The dataset gets saved as a .pkl file so it doesn't have to be regenerated each time."
      ]
    },
    {
      "cell_type": "code",
      "execution_count": 3,
      "metadata": {
        "id": "YLxf7dJfPaqw",
        "outputId": "f4220e95-9130-435c-a169-b6c1b359f1b0",
        "colab": {
          "base_uri": "https://localhost:8080/"
        }
      },
      "outputs": [
        {
          "output_type": "stream",
          "name": "stdout",
          "text": [
            "Did or could not load data from ./mnist1d_data.pkl. Rebuilding dataset...\n",
            "Examples in training set: 4000\n",
            "Examples in test set: 1000\n",
            "Length of each example: 40\n"
          ]
        }
      ],
      "source": [
        "args = mnist1d.data.get_dataset_args()\n",
        "data = mnist1d.data.get_dataset(args, path='./mnist1d_data.pkl', download=False, regenerate=False)\n",
        "\n",
        "# The training and test input and outputs are in\n",
        "# data['x'], data['y'], data['x_test'], and data['y_test']\n",
        "print(\"Examples in training set: {}\".format(len(data['y'])))\n",
        "print(\"Examples in test set: {}\".format(len(data['y_test'])))\n",
        "print(\"Length of each example: {}\".format(data['x'].shape[-1]))"
      ]
    },
    {
      "cell_type": "code",
      "execution_count": 6,
      "metadata": {
        "id": "FxaB5vc0uevl",
        "outputId": "138716fc-e9da-4d39-d2e9-22f346b4fab9",
        "colab": {
          "base_uri": "https://localhost:8080/"
        }
      },
      "outputs": [
        {
          "output_type": "stream",
          "name": "stdout",
          "text": [
            "Initializing layer with shape torch.Size([100, 40])\n",
            "Initializing layer with shape torch.Size([100, 100])\n",
            "Initializing layer with shape torch.Size([10, 100])\n"
          ]
        },
        {
          "output_type": "execute_result",
          "data": {
            "text/plain": [
              "Sequential(\n",
              "  (0): Linear(in_features=40, out_features=100, bias=True)\n",
              "  (1): ReLU()\n",
              "  (2): Linear(in_features=100, out_features=100, bias=True)\n",
              "  (3): ReLU()\n",
              "  (4): Linear(in_features=100, out_features=10, bias=True)\n",
              ")"
            ]
          },
          "metadata": {},
          "execution_count": 6
        }
      ],
      "source": [
        "D_i = 40    # Input dimensions\n",
        "D_k = 100   # Hidden dimensions\n",
        "D_o = 10    # Output dimensions\n",
        "# TODO:\n",
        "# Define a model with two hidden layers of size 100\n",
        "# And ReLU activations between them\n",
        "# Replace this line (see Figure 7.8 of book for help):\n",
        "model = torch.nn.Sequential(\n",
        "    torch.nn.Linear(D_i, D_k),      # First layer: 40 -> 100\n",
        "    torch.nn.ReLU(),                # ReLU activation\n",
        "    torch.nn.Linear(D_k, D_k),      # Second hidden layer: 100 -> 100\n",
        "    torch.nn.ReLU(),                # ReLU activation\n",
        "    torch.nn.Linear(D_k, D_o)       # Output layer: 100 -> 10\n",
        ")\n",
        "\n",
        "\n",
        "\n",
        "def weights_init(layer_in):\n",
        "  # TODO:\n",
        "  # Initialize the parameters with He initialization\n",
        "  # Replace this line (see figure 7.8 of book for help)\n",
        "  if isinstance(layer_in, torch.nn.Linear):\n",
        "    torch.nn.init.kaiming_normal_(layer_in.weight, mode='fan_in', nonlinearity='relu')\n",
        "    torch.nn.init.zeros_(layer_in.bias)\n",
        "    print(f\"Initializing layer with shape {layer_in.weight.shape}\")\n",
        "\n",
        "\n",
        "# Call the function you just defined\n",
        "model.apply(weights_init)\n"
      ]
    },
    {
      "cell_type": "code",
      "execution_count": 5,
      "metadata": {
        "id": "_rX6N3VyyQTY",
        "outputId": "0a5fc194-42d5-4f56-c447-46dc6db40550",
        "colab": {
          "base_uri": "https://localhost:8080/"
        }
      },
      "outputs": [
        {
          "output_type": "stream",
          "name": "stdout",
          "text": [
            "Initializing layer\n",
            "Initializing layer\n",
            "Epoch     0, train loss 1.768716, train error 70.65,  test loss 1.798587, test error 74.10\n",
            "Epoch     1, train loss 1.683854, train error 66.95,  test loss 1.715820, test error 72.50\n",
            "Epoch     2, train loss 1.659578, train error 66.72,  test loss 1.693435, test error 69.30\n",
            "Epoch     3, train loss 1.638048, train error 65.15,  test loss 1.679765, test error 68.60\n",
            "Epoch     4, train loss 1.642239, train error 65.15,  test loss 1.688357, test error 68.40\n",
            "Epoch     5, train loss 1.621852, train error 63.90,  test loss 1.681413, test error 68.60\n",
            "Epoch     6, train loss 1.619394, train error 65.10,  test loss 1.663547, test error 67.30\n",
            "Epoch     7, train loss 1.617777, train error 64.10,  test loss 1.671891, test error 70.00\n",
            "Epoch     8, train loss 1.610615, train error 63.70,  test loss 1.653858, test error 66.70\n",
            "Epoch     9, train loss 1.612242, train error 63.50,  test loss 1.674123, test error 70.20\n",
            "Epoch    10, train loss 1.605782, train error 63.72,  test loss 1.667690, test error 68.00\n",
            "Epoch    11, train loss 1.600396, train error 63.12,  test loss 1.655176, test error 69.00\n",
            "Epoch    12, train loss 1.599040, train error 62.83,  test loss 1.652416, test error 67.80\n",
            "Epoch    13, train loss 1.599659, train error 62.67,  test loss 1.657433, test error 66.20\n",
            "Epoch    14, train loss 1.599493, train error 62.78,  test loss 1.657946, test error 68.30\n",
            "Epoch    15, train loss 1.599496, train error 62.97,  test loss 1.654540, test error 67.40\n",
            "Epoch    16, train loss 1.597699, train error 63.40,  test loss 1.656913, test error 67.60\n",
            "Epoch    17, train loss 1.595540, train error 62.20,  test loss 1.652833, test error 67.40\n",
            "Epoch    18, train loss 1.594476, train error 63.12,  test loss 1.658714, test error 68.00\n",
            "Epoch    19, train loss 1.595907, train error 62.70,  test loss 1.665170, test error 67.10\n",
            "Epoch    20, train loss 1.592182, train error 62.88,  test loss 1.655460, test error 67.40\n",
            "Epoch    21, train loss 1.592328, train error 63.03,  test loss 1.656990, test error 67.20\n",
            "Epoch    22, train loss 1.591351, train error 62.50,  test loss 1.657040, test error 66.40\n",
            "Epoch    23, train loss 1.590936, train error 62.47,  test loss 1.652448, test error 66.50\n",
            "Epoch    24, train loss 1.590863, train error 62.83,  test loss 1.652866, test error 67.00\n",
            "Epoch    25, train loss 1.591232, train error 62.53,  test loss 1.654483, test error 67.60\n",
            "Epoch    26, train loss 1.590739, train error 62.58,  test loss 1.656194, test error 67.80\n",
            "Epoch    27, train loss 1.590707, train error 62.62,  test loss 1.652475, test error 67.30\n",
            "Epoch    28, train loss 1.590177, train error 62.53,  test loss 1.654294, test error 67.50\n",
            "Epoch    29, train loss 1.591142, train error 62.65,  test loss 1.654384, test error 66.90\n",
            "Epoch    30, train loss 1.589581, train error 62.38,  test loss 1.654725, test error 67.50\n",
            "Epoch    31, train loss 1.589427, train error 62.53,  test loss 1.656597, test error 67.60\n",
            "Epoch    32, train loss 1.589108, train error 62.90,  test loss 1.653745, test error 67.70\n",
            "Epoch    33, train loss 1.589205, train error 62.42,  test loss 1.653932, test error 67.20\n",
            "Epoch    34, train loss 1.589033, train error 62.90,  test loss 1.653991, test error 67.10\n",
            "Epoch    35, train loss 1.588890, train error 62.58,  test loss 1.654015, test error 67.10\n",
            "Epoch    36, train loss 1.589049, train error 62.55,  test loss 1.653078, test error 67.10\n",
            "Epoch    37, train loss 1.588943, train error 62.75,  test loss 1.653332, test error 67.20\n",
            "Epoch    38, train loss 1.588803, train error 62.42,  test loss 1.654448, test error 67.00\n",
            "Epoch    39, train loss 1.588791, train error 62.65,  test loss 1.654990, test error 67.40\n",
            "Epoch    40, train loss 1.588629, train error 62.75,  test loss 1.655101, test error 67.00\n",
            "Epoch    41, train loss 1.588586, train error 62.67,  test loss 1.653977, test error 67.60\n",
            "Epoch    42, train loss 1.588541, train error 62.60,  test loss 1.655428, test error 67.60\n",
            "Epoch    43, train loss 1.588521, train error 62.75,  test loss 1.654486, test error 66.90\n",
            "Epoch    44, train loss 1.588455, train error 62.58,  test loss 1.654456, test error 67.40\n",
            "Epoch    45, train loss 1.588462, train error 62.88,  test loss 1.654601, test error 67.10\n",
            "Epoch    46, train loss 1.588466, train error 62.53,  test loss 1.653712, test error 67.40\n",
            "Epoch    47, train loss 1.588403, train error 62.60,  test loss 1.653871, test error 67.00\n",
            "Epoch    48, train loss 1.588365, train error 62.65,  test loss 1.654823, test error 67.70\n",
            "Epoch    49, train loss 1.588395, train error 62.58,  test loss 1.654117, test error 67.00\n"
          ]
        }
      ],
      "source": [
        "# choose cross entropy loss function (equation 5.24)\n",
        "loss_function = torch.nn.CrossEntropyLoss()\n",
        "# construct SGD optimizer and initialize learning rate and momentum\n",
        "optimizer = torch.optim.SGD(model.parameters(), lr = 0.05, momentum=0.9)\n",
        "# object that decreases learning rate by half every 10 epochs\n",
        "scheduler = StepLR(optimizer, step_size=10, gamma=0.5)\n",
        "x_train = torch.tensor(data['x'].astype('float32'))\n",
        "y_train = torch.tensor(data['y'].transpose().astype('int64'))\n",
        "x_test= torch.tensor(data['x_test'].astype('float32'))\n",
        "y_test = torch.tensor(data['y_test'].astype('int64'))\n",
        "\n",
        "# load the data into a class that creates the batches\n",
        "data_loader = DataLoader(TensorDataset(x_train,y_train), batch_size=100, shuffle=True, worker_init_fn=np.random.seed(1))\n",
        "\n",
        "# Initialize model weights\n",
        "model.apply(weights_init)\n",
        "\n",
        "# loop over the dataset n_epoch times\n",
        "n_epoch = 50\n",
        "# store the loss and the % correct at each epoch\n",
        "losses_train = np.zeros((n_epoch))\n",
        "errors_train = np.zeros((n_epoch))\n",
        "losses_test = np.zeros((n_epoch))\n",
        "errors_test = np.zeros((n_epoch))\n",
        "\n",
        "for epoch in range(n_epoch):\n",
        "  # loop over batches\n",
        "  for i, batch in enumerate(data_loader):\n",
        "    # retrieve inputs and labels for this batch\n",
        "    x_batch, y_batch = batch\n",
        "    # zero the parameter gradients\n",
        "    optimizer.zero_grad()\n",
        "    # forward pass -- calculate model output\n",
        "    pred = model(x_batch)\n",
        "    # compute the loss\n",
        "    loss = loss_function(pred, y_batch)\n",
        "    # backward pass\n",
        "    loss.backward()\n",
        "    # SGD update\n",
        "    optimizer.step()\n",
        "\n",
        "  # Run whole dataset to get statistics -- normally wouldn't do this\n",
        "  pred_train = model(x_train)\n",
        "  pred_test = model(x_test)\n",
        "  _, predicted_train_class = torch.max(pred_train.data, 1)\n",
        "  _, predicted_test_class = torch.max(pred_test.data, 1)\n",
        "  errors_train[epoch] = 100 - 100 * (predicted_train_class == y_train).float().sum() / len(y_train)\n",
        "  errors_test[epoch]= 100 - 100 * (predicted_test_class == y_test).float().sum() / len(y_test)\n",
        "  losses_train[epoch] = loss_function(pred_train, y_train).item()\n",
        "  losses_test[epoch]= loss_function(pred_test, y_test).item()\n",
        "  print(f'Epoch {epoch:5d}, train loss {losses_train[epoch]:.6f}, train error {errors_train[epoch]:3.2f},  test loss {losses_test[epoch]:.6f}, test error {errors_test[epoch]:3.2f}')\n",
        "\n",
        "  # tell scheduler to consider updating learning rate\n",
        "  scheduler.step()"
      ]
    },
    {
      "cell_type": "code",
      "execution_count": 7,
      "metadata": {
        "id": "yI-l6kA_EH9G",
        "outputId": "c3ba4d6b-f33b-46e1-f2f3-96cdd2eb4df8",
        "colab": {
          "base_uri": "https://localhost:8080/",
          "height": 927
        }
      },
      "outputs": [
        {
          "output_type": "display_data",
          "data": {
            "text/plain": [
              "<Figure size 640x480 with 1 Axes>"
            ],
            "image/png": "[encoded data removed]"
          },
          "metadata": {}
        },
        {
          "output_type": "display_data",
          "data": {
            "text/plain": [
              "<Figure size 640x480 with 1 Axes>"
            ],
            "image/png": "[encoded data removed]"
          },
          "metadata": {}
        }
      ],
      "source": [
        "# Plot the results\n",
        "fig, ax = plt.subplots()\n",
        "ax.plot(errors_train,'r-',label='train')\n",
        "ax.plot(errors_test,'b-',label='test')\n",
        "ax.set_ylim(0,100); ax.set_xlim(0,n_epoch)\n",
        "ax.set_xlabel('Epoch'); ax.set_ylabel('Error')\n",
        "ax.set_title('TrainError %3.2f, Test Error %3.2f'%(errors_train[-1],errors_test[-1]))\n",
        "ax.legend()\n",
        "plt.show()\n",
        "\n",
        "# Plot the results\n",
        "fig, ax = plt.subplots()\n",
        "ax.plot(losses_train,'r-',label='train')\n",
        "ax.plot(losses_test,'b-',label='test')\n",
        "ax.set_xlim(0,n_epoch)\n",
        "ax.set_xlabel('Epoch'); ax.set_ylabel('Loss')\n",
        "ax.set_title('Train loss %3.2f, Test loss %3.2f'%(losses_train[-1],losses_test[-1]))\n",
        "ax.legend()\n",
        "plt.show()"
      ]
    },
    {
      "cell_type": "markdown",
      "metadata": {
        "id": "q-yT6re6GZS4"
      },
      "source": [
        "**TODO**\n",
        "\n",
        "Play with the model -- try changing the number of layers, hidden units, learning rate, batch size, momentum or anything else you like.  See if you can improve the test results.\n",
        "\n",
        "Is it a good idea to optimize the hyperparameters in this way?  Will the final result be a good estimate of the true test performance?"
      ]
    },
    {
      "cell_type": "markdown",
      "source": [
        "No, we need a separate validation set for hyperparameter tuning; using the test set for this invalidates it as an unbiased performance measure."
      ],
      "metadata": {
        "id": "Pc_LCwX_VJt0"
      }
    },
    {
      "cell_type": "code",
      "source": [],
      "metadata": {
        "id": "FrVQeQ7gVJY2"
      },
      "execution_count": null,
      "outputs": []
    }
  ],
  "metadata": {
    "accelerator": "GPU",
    "colab": {
      "gpuType": "T4",
      "provenance": [],
      "include_colab_link": true
    },
    "kernelspec": {
      "display_name": "Python 3",
      "name": "python3"
    },
    "language_info": {
      "name": "python"
    }
  },
  "nbformat": 4,
  "nbformat_minor": 0
}